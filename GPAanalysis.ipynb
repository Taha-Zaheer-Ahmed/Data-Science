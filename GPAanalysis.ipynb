{
 "cells": [
  {
   "cell_type": "code",
   "execution_count": 1,
   "id": "e8d4712f-8093-4af6-bd46-8cee5b0b11dd",
   "metadata": {},
   "outputs": [],
   "source": [
    "import pandas as pd\n",
    "import matplotlib.pyplot as plt\n",
    "import numpy as np"
   ]
  },
  {
   "cell_type": "code",
   "execution_count": 16,
   "id": "7ef22c9a-91a5-481b-b484-eccbd8fd0302",
   "metadata": {},
   "outputs": [
    {
     "data": {
      "text/html": [
       "<div>\n",
       "<style scoped>\n",
       "    .dataframe tbody tr th:only-of-type {\n",
       "        vertical-align: middle;\n",
       "    }\n",
       "\n",
       "    .dataframe tbody tr th {\n",
       "        vertical-align: top;\n",
       "    }\n",
       "\n",
       "    .dataframe thead th {\n",
       "        text-align: right;\n",
       "    }\n",
       "</style>\n",
       "<table border=\"1\" class=\"dataframe\">\n",
       "  <thead>\n",
       "    <tr style=\"text-align: right;\">\n",
       "      <th></th>\n",
       "      <th>obs</th>\n",
       "      <th>gpa</th>\n",
       "      <th>iq</th>\n",
       "      <th>gender</th>\n",
       "      <th>concept</th>\n",
       "    </tr>\n",
       "  </thead>\n",
       "  <tbody>\n",
       "    <tr>\n",
       "      <th>0</th>\n",
       "      <td>1</td>\n",
       "      <td>7.940</td>\n",
       "      <td>111</td>\n",
       "      <td>2</td>\n",
       "      <td>67</td>\n",
       "    </tr>\n",
       "    <tr>\n",
       "      <th>1</th>\n",
       "      <td>2</td>\n",
       "      <td>8.292</td>\n",
       "      <td>107</td>\n",
       "      <td>2</td>\n",
       "      <td>43</td>\n",
       "    </tr>\n",
       "    <tr>\n",
       "      <th>2</th>\n",
       "      <td>3</td>\n",
       "      <td>4.643</td>\n",
       "      <td>100</td>\n",
       "      <td>2</td>\n",
       "      <td>52</td>\n",
       "    </tr>\n",
       "    <tr>\n",
       "      <th>3</th>\n",
       "      <td>4</td>\n",
       "      <td>7.470</td>\n",
       "      <td>107</td>\n",
       "      <td>2</td>\n",
       "      <td>66</td>\n",
       "    </tr>\n",
       "    <tr>\n",
       "      <th>4</th>\n",
       "      <td>5</td>\n",
       "      <td>8.882</td>\n",
       "      <td>114</td>\n",
       "      <td>1</td>\n",
       "      <td>58</td>\n",
       "    </tr>\n",
       "  </tbody>\n",
       "</table>\n",
       "</div>"
      ],
      "text/plain": [
       "   obs    gpa   iq  gender  concept\n",
       "0    1  7.940  111       2       67\n",
       "1    2  8.292  107       2       43\n",
       "2    3  4.643  100       2       52\n",
       "3    4  7.470  107       2       66\n",
       "4    5  8.882  114       1       58"
      ]
     },
     "execution_count": 16,
     "metadata": {},
     "output_type": "execute_result"
    }
   ],
   "source": [
    "data = pd.read_csv('gpa_iq.csv')\n",
    "data.head()"
   ]
  },
  {
   "cell_type": "code",
   "execution_count": 17,
   "id": "2276f475-ba9a-49c8-8294-7e54df026c58",
   "metadata": {},
   "outputs": [
    {
     "data": {
      "text/plain": [
       "Index(['obs', 'gpa', 'iq', 'gender', 'concept'], dtype='object')"
      ]
     },
     "execution_count": 17,
     "metadata": {},
     "output_type": "execute_result"
    }
   ],
   "source": [
    "data.columns"
   ]
  },
  {
   "cell_type": "code",
   "execution_count": 18,
   "id": "45360241-2723-46cd-961a-80253334b7c9",
   "metadata": {},
   "outputs": [
    {
     "data": {
      "text/plain": [
       "obs        0\n",
       "gpa        0\n",
       "iq         0\n",
       "gender     0\n",
       "concept    0\n",
       "dtype: int64"
      ]
     },
     "execution_count": 18,
     "metadata": {},
     "output_type": "execute_result"
    }
   ],
   "source": [
    "data.isnull().sum()"
   ]
  },
  {
   "cell_type": "code",
   "execution_count": 19,
   "id": "0d2ab75e-6a22-460b-b0cc-26f24f34bbdd",
   "metadata": {},
   "outputs": [
    {
     "data": {
      "text/plain": [
       "obs          int64\n",
       "gpa        float64\n",
       "iq           int64\n",
       "gender       int64\n",
       "concept      int64\n",
       "dtype: object"
      ]
     },
     "execution_count": 19,
     "metadata": {},
     "output_type": "execute_result"
    }
   ],
   "source": [
    "data.dtypes"
   ]
  },
  {
   "cell_type": "code",
   "execution_count": 20,
   "id": "c486666a-7226-4f19-8770-88ab7f79e393",
   "metadata": {},
   "outputs": [],
   "source": [
    "data['sex'] = data['gender'].replace([1, 2],['male', 'female'])"
   ]
  },
  {
   "cell_type": "code",
   "execution_count": 21,
   "id": "348aa4aa-a01f-443e-9ec6-db83008cc4c5",
   "metadata": {},
   "outputs": [
    {
     "data": {
      "text/html": [
       "<div>\n",
       "<style scoped>\n",
       "    .dataframe tbody tr th:only-of-type {\n",
       "        vertical-align: middle;\n",
       "    }\n",
       "\n",
       "    .dataframe tbody tr th {\n",
       "        vertical-align: top;\n",
       "    }\n",
       "\n",
       "    .dataframe thead th {\n",
       "        text-align: right;\n",
       "    }\n",
       "</style>\n",
       "<table border=\"1\" class=\"dataframe\">\n",
       "  <thead>\n",
       "    <tr style=\"text-align: right;\">\n",
       "      <th></th>\n",
       "      <th>obs</th>\n",
       "      <th>gpa</th>\n",
       "      <th>iq</th>\n",
       "      <th>gender</th>\n",
       "      <th>concept</th>\n",
       "      <th>sex</th>\n",
       "      <th>weightedGPA</th>\n",
       "    </tr>\n",
       "  </thead>\n",
       "  <tbody>\n",
       "    <tr>\n",
       "      <th>0</th>\n",
       "      <td>1</td>\n",
       "      <td>7.940</td>\n",
       "      <td>111</td>\n",
       "      <td>2</td>\n",
       "      <td>67</td>\n",
       "      <td>female</td>\n",
       "      <td>3.1760</td>\n",
       "    </tr>\n",
       "    <tr>\n",
       "      <th>1</th>\n",
       "      <td>2</td>\n",
       "      <td>8.292</td>\n",
       "      <td>107</td>\n",
       "      <td>2</td>\n",
       "      <td>43</td>\n",
       "      <td>female</td>\n",
       "      <td>3.3168</td>\n",
       "    </tr>\n",
       "    <tr>\n",
       "      <th>2</th>\n",
       "      <td>3</td>\n",
       "      <td>4.643</td>\n",
       "      <td>100</td>\n",
       "      <td>2</td>\n",
       "      <td>52</td>\n",
       "      <td>female</td>\n",
       "      <td>1.8572</td>\n",
       "    </tr>\n",
       "    <tr>\n",
       "      <th>3</th>\n",
       "      <td>4</td>\n",
       "      <td>7.470</td>\n",
       "      <td>107</td>\n",
       "      <td>2</td>\n",
       "      <td>66</td>\n",
       "      <td>female</td>\n",
       "      <td>2.9880</td>\n",
       "    </tr>\n",
       "    <tr>\n",
       "      <th>4</th>\n",
       "      <td>5</td>\n",
       "      <td>8.882</td>\n",
       "      <td>114</td>\n",
       "      <td>1</td>\n",
       "      <td>58</td>\n",
       "      <td>male</td>\n",
       "      <td>3.5528</td>\n",
       "    </tr>\n",
       "    <tr>\n",
       "      <th>...</th>\n",
       "      <td>...</td>\n",
       "      <td>...</td>\n",
       "      <td>...</td>\n",
       "      <td>...</td>\n",
       "      <td>...</td>\n",
       "      <td>...</td>\n",
       "      <td>...</td>\n",
       "    </tr>\n",
       "    <tr>\n",
       "      <th>73</th>\n",
       "      <td>85</td>\n",
       "      <td>9.000</td>\n",
       "      <td>112</td>\n",
       "      <td>1</td>\n",
       "      <td>60</td>\n",
       "      <td>male</td>\n",
       "      <td>3.6000</td>\n",
       "    </tr>\n",
       "    <tr>\n",
       "      <th>74</th>\n",
       "      <td>86</td>\n",
       "      <td>9.500</td>\n",
       "      <td>112</td>\n",
       "      <td>1</td>\n",
       "      <td>70</td>\n",
       "      <td>male</td>\n",
       "      <td>3.8000</td>\n",
       "    </tr>\n",
       "    <tr>\n",
       "      <th>75</th>\n",
       "      <td>87</td>\n",
       "      <td>6.057</td>\n",
       "      <td>114</td>\n",
       "      <td>2</td>\n",
       "      <td>51</td>\n",
       "      <td>female</td>\n",
       "      <td>2.4228</td>\n",
       "    </tr>\n",
       "    <tr>\n",
       "      <th>76</th>\n",
       "      <td>88</td>\n",
       "      <td>6.057</td>\n",
       "      <td>93</td>\n",
       "      <td>1</td>\n",
       "      <td>21</td>\n",
       "      <td>male</td>\n",
       "      <td>2.4228</td>\n",
       "    </tr>\n",
       "    <tr>\n",
       "      <th>77</th>\n",
       "      <td>89</td>\n",
       "      <td>6.938</td>\n",
       "      <td>106</td>\n",
       "      <td>2</td>\n",
       "      <td>56</td>\n",
       "      <td>female</td>\n",
       "      <td>2.7752</td>\n",
       "    </tr>\n",
       "  </tbody>\n",
       "</table>\n",
       "<p>78 rows × 7 columns</p>\n",
       "</div>"
      ],
      "text/plain": [
       "    obs    gpa   iq  gender  concept     sex  weightedGPA\n",
       "0     1  7.940  111       2       67  female       3.1760\n",
       "1     2  8.292  107       2       43  female       3.3168\n",
       "2     3  4.643  100       2       52  female       1.8572\n",
       "3     4  7.470  107       2       66  female       2.9880\n",
       "4     5  8.882  114       1       58    male       3.5528\n",
       "..  ...    ...  ...     ...      ...     ...          ...\n",
       "73   85  9.000  112       1       60    male       3.6000\n",
       "74   86  9.500  112       1       70    male       3.8000\n",
       "75   87  6.057  114       2       51  female       2.4228\n",
       "76   88  6.057   93       1       21    male       2.4228\n",
       "77   89  6.938  106       2       56  female       2.7752\n",
       "\n",
       "[78 rows x 7 columns]"
      ]
     },
     "execution_count": 21,
     "metadata": {},
     "output_type": "execute_result"
    }
   ],
   "source": [
    "data['weightedGPA'] = ((data['gpa'] / 100) * 0.4) * 100\n",
    "data"
   ]
  },
  {
   "cell_type": "code",
   "execution_count": 22,
   "id": "bdd5490f-5039-4aa6-a98e-5820c8d3c012",
   "metadata": {},
   "outputs": [
    {
     "data": {
      "text/html": [
       "<div>\n",
       "<style scoped>\n",
       "    .dataframe tbody tr th:only-of-type {\n",
       "        vertical-align: middle;\n",
       "    }\n",
       "\n",
       "    .dataframe tbody tr th {\n",
       "        vertical-align: top;\n",
       "    }\n",
       "\n",
       "    .dataframe thead th {\n",
       "        text-align: right;\n",
       "    }\n",
       "</style>\n",
       "<table border=\"1\" class=\"dataframe\">\n",
       "  <thead>\n",
       "    <tr style=\"text-align: right;\">\n",
       "      <th></th>\n",
       "      <th>obs</th>\n",
       "      <th>gpa</th>\n",
       "      <th>iq</th>\n",
       "      <th>gender</th>\n",
       "      <th>concept</th>\n",
       "      <th>weightedGPA</th>\n",
       "    </tr>\n",
       "  </thead>\n",
       "  <tbody>\n",
       "    <tr>\n",
       "      <th>count</th>\n",
       "      <td>78.000000</td>\n",
       "      <td>78.000000</td>\n",
       "      <td>78.000000</td>\n",
       "      <td>78.000000</td>\n",
       "      <td>78.000000</td>\n",
       "      <td>78.000000</td>\n",
       "    </tr>\n",
       "    <tr>\n",
       "      <th>mean</th>\n",
       "      <td>42.974359</td>\n",
       "      <td>7.446538</td>\n",
       "      <td>108.923077</td>\n",
       "      <td>1.602564</td>\n",
       "      <td>56.961538</td>\n",
       "      <td>2.978615</td>\n",
       "    </tr>\n",
       "    <tr>\n",
       "      <th>std</th>\n",
       "      <td>25.889864</td>\n",
       "      <td>2.099557</td>\n",
       "      <td>13.170973</td>\n",
       "      <td>0.492535</td>\n",
       "      <td>12.412229</td>\n",
       "      <td>0.839823</td>\n",
       "    </tr>\n",
       "    <tr>\n",
       "      <th>min</th>\n",
       "      <td>1.000000</td>\n",
       "      <td>0.530000</td>\n",
       "      <td>72.000000</td>\n",
       "      <td>1.000000</td>\n",
       "      <td>20.000000</td>\n",
       "      <td>0.212000</td>\n",
       "    </tr>\n",
       "    <tr>\n",
       "      <th>25%</th>\n",
       "      <td>20.250000</td>\n",
       "      <td>6.278000</td>\n",
       "      <td>103.000000</td>\n",
       "      <td>1.000000</td>\n",
       "      <td>51.000000</td>\n",
       "      <td>2.511200</td>\n",
       "    </tr>\n",
       "    <tr>\n",
       "      <th>50%</th>\n",
       "      <td>42.000000</td>\n",
       "      <td>7.829000</td>\n",
       "      <td>110.000000</td>\n",
       "      <td>2.000000</td>\n",
       "      <td>59.500000</td>\n",
       "      <td>3.131600</td>\n",
       "    </tr>\n",
       "    <tr>\n",
       "      <th>75%</th>\n",
       "      <td>62.750000</td>\n",
       "      <td>8.983000</td>\n",
       "      <td>117.500000</td>\n",
       "      <td>2.000000</td>\n",
       "      <td>66.000000</td>\n",
       "      <td>3.593200</td>\n",
       "    </tr>\n",
       "    <tr>\n",
       "      <th>max</th>\n",
       "      <td>89.000000</td>\n",
       "      <td>10.760000</td>\n",
       "      <td>136.000000</td>\n",
       "      <td>2.000000</td>\n",
       "      <td>80.000000</td>\n",
       "      <td>4.304000</td>\n",
       "    </tr>\n",
       "  </tbody>\n",
       "</table>\n",
       "</div>"
      ],
      "text/plain": [
       "             obs        gpa          iq     gender    concept  weightedGPA\n",
       "count  78.000000  78.000000   78.000000  78.000000  78.000000    78.000000\n",
       "mean   42.974359   7.446538  108.923077   1.602564  56.961538     2.978615\n",
       "std    25.889864   2.099557   13.170973   0.492535  12.412229     0.839823\n",
       "min     1.000000   0.530000   72.000000   1.000000  20.000000     0.212000\n",
       "25%    20.250000   6.278000  103.000000   1.000000  51.000000     2.511200\n",
       "50%    42.000000   7.829000  110.000000   2.000000  59.500000     3.131600\n",
       "75%    62.750000   8.983000  117.500000   2.000000  66.000000     3.593200\n",
       "max    89.000000  10.760000  136.000000   2.000000  80.000000     4.304000"
      ]
     },
     "execution_count": 22,
     "metadata": {},
     "output_type": "execute_result"
    }
   ],
   "source": [
    "data.describe()"
   ]
  },
  {
   "cell_type": "code",
   "execution_count": 23,
   "id": "bdbb64ab-ad56-4d0b-8463-0aa942edb95d",
   "metadata": {},
   "outputs": [
    {
     "data": {
      "image/png": "[encoded data removed]",
      "text/plain": [
       "<Figure size 640x480 with 1 Axes>"
      ]
     },
     "metadata": {},
     "output_type": "display_data"
    }
   ],
   "source": [
    "plt.scatter(data.weightedGPA, data.iq)\n",
    "plt.xlabel('GPA')\n",
    "plt.ylabel('IQ')\n",
    "plt.show()"
   ]
  },
  {
   "cell_type": "code",
   "execution_count": 24,
   "id": "a3a534a7-9778-492c-bc16-84c06ac3c18e",
   "metadata": {},
   "outputs": [
    {
     "data": {
      "image/png": "[encoded data removed]",
      "text/plain": [
       "<Figure size 640x480 with 1 Axes>"
      ]
     },
     "metadata": {},
     "output_type": "display_data"
    }
   ],
   "source": [
    "plt.scatter(data.gpa, data.iq)\n",
    "plt.xlabel('GPA')\n",
    "plt.ylabel('IQ')\n",
    "plt.show()"
   ]
  },
  {
   "cell_type": "code",
   "execution_count": 25,
   "id": "6b0e569c-ae1c-42af-a08e-4b27e37b8f4f",
   "metadata": {},
   "outputs": [
    {
     "data": {
      "image/png": "[encoded data removed]",
      "text/plain": [
       "<Figure size 640x480 with 1 Axes>"
      ]
     },
     "metadata": {},
     "output_type": "display_data"
    }
   ],
   "source": [
    "colors = data['sex'].replace(['male', 'female'], ['r', 'b'])\n",
    "plt.scatter(data.gpa, data.iq, c = colors)\n",
    "plt.xlabel('GPA')\n",
    "plt.ylabel('IQ')\n",
    "plt.show()"
   ]
  },
  {
   "cell_type": "code",
   "execution_count": 26,
   "id": "a251fee3-1417-4e51-87c8-cde89154b678",
   "metadata": {},
   "outputs": [
    {
     "data": {
      "image/png": "[encoded data removed]",
      "text/plain": [
       "<Figure size 640x480 with 1 Axes>"
      ]
     },
     "metadata": {},
     "output_type": "display_data"
    }
   ],
   "source": [
    "md, fd = data.groupby('gender')\n",
    "md = md[1]\n",
    "fd = fd[1]\n",
    "plt.plot(md.weightedGPA, md.iq, 'b.', label = 'Male')\n",
    "plt.plot(fd.weightedGPA, fd.iq, 'r.', label = 'Female')\n",
    "plt.xlabel('GPA', fontsize = 24)\n",
    "plt.ylabel('IQ', fontsize = 24)\n",
    "plt.title('GPA analysis', fontsize = 28)\n",
    "plt.legend()\n",
    "plt.grid(which = 'both', linewidth=0.5)"
   ]
  },
  {
   "cell_type": "code",
   "execution_count": 37,
   "id": "dffa8b05-303f-454b-b6a7-529df8291831",
   "metadata": {},
   "outputs": [
    {
     "data": {
      "text/plain": [
       "<matplotlib.legend.Legend at 0x14fc4c7d330>"
      ]
     },
     "execution_count": 37,
     "metadata": {},
     "output_type": "execute_result"
    },
    {
     "data": {
      "image/png": "[encoded data removed]",
      "text/plain": [
       "<Figure size 640x480 with 1 Axes>"
      ]
     },
     "metadata": {},
     "output_type": "display_data"
    }
   ],
   "source": [
    "md, fd = data.groupby('gender')\n",
    "md = md[1]\n",
    "fd = fd[1]\n",
    "maleGPA = md.weightedGPA\n",
    "femaleGPA = fd.weightedGPA\n",
    "plt.hist([maleGPA, femaleGPA], label = ['Male', 'Female'], color = ['Blue', 'Red'], rwidth = 0.95)\n",
    "plt.xlabel('GPA')\n",
    "plt.ylabel('Freq (f)')\n",
    "plt.title('GPA - Gender dynamics')\n",
    "plt.legend()"
   ]
  },
  {
   "cell_type": "code",
   "execution_count": null,
   "id": "133c8797-4b41-442a-aea8-1cdd43151908",
   "metadata": {},
   "outputs": [],
   "source": []
  },
  {
   "cell_type": "code",
   "execution_count": null,
   "id": "65f36ac1-e567-43f6-850c-157bff0d396a",
   "metadata": {},
   "outputs": [],
   "source": []
  }
 ],
 "metadata": {
  "kernelspec": {
   "display_name": "Python 3 (ipykernel)",
   "language": "python",
   "name": "python3"
  },
  "language_info": {
   "codemirror_mode": {
    "name": "ipython",
    "version": 3
   },
   "file_extension": ".py",
   "mimetype": "text/x-python",
   "name": "python",
   "nbconvert_exporter": "python",
   "pygments_lexer": "ipython3",
   "version": "3.10.2"
  }
 },
 "nbformat": 4,
 "nbformat_minor": 5
}
